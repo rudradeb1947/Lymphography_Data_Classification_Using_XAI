{
  "nbformat": 4,
  "nbformat_minor": 0,
  "metadata": {
    "colab": {
      "provenance": [],
      "authorship_tag": "ABX9TyNGltCDGQdIELXIy8V90xBW",
      "include_colab_link": true
    },
    "kernelspec": {
      "name": "python3",
      "display_name": "Python 3"
    },
    "language_info": {
      "name": "python"
    },
    "widgets": {
      "application/vnd.jupyter.widget-state+json": {
        "c48f8d7064354cc289069c74e934a331": {
          "model_module": "@jupyter-widgets/controls",
          "model_name": "HBoxModel",
          "model_module_version": "1.5.0",
          "state": {
            "_dom_classes": [],
            "_model_module": "@jupyter-widgets/controls",
            "_model_module_version": "1.5.0",
            "_model_name": "HBoxModel",
            "_view_count": null,
            "_view_module": "@jupyter-widgets/controls",
            "_view_module_version": "1.5.0",
            "_view_name": "HBoxView",
            "box_style": "",
            "children": [
              "IPY_MODEL_ce3ccd0fef0041b49e5feb8038f07ef5",
              "IPY_MODEL_e5113eaf6e304e25a3b168225a023797",
              "IPY_MODEL_0fd0f2ff209b4f5abcf0748ccf3c7885"
            ],
            "layout": "IPY_MODEL_399e2e9e8f914bf58cd1eb9e790190e0"
          }
        },
        "ce3ccd0fef0041b49e5feb8038f07ef5": {
          "model_module": "@jupyter-widgets/controls",
          "model_name": "HTMLModel",
          "model_module_version": "1.5.0",
          "state": {
            "_dom_classes": [],
            "_model_module": "@jupyter-widgets/controls",
            "_model_module_version": "1.5.0",
            "_model_name": "HTMLModel",
            "_view_count": null,
            "_view_module": "@jupyter-widgets/controls",
            "_view_module_version": "1.5.0",
            "_view_name": "HTMLView",
            "description": "",
            "description_tooltip": null,
            "layout": "IPY_MODEL_a054e44885d949269a50c19ac32b98a7",
            "placeholder": "​",
            "style": "IPY_MODEL_992c7e80546d4db1a77a8232632a2cfc",
            "value": "100%"
          }
        },
        "e5113eaf6e304e25a3b168225a023797": {
          "model_module": "@jupyter-widgets/controls",
          "model_name": "FloatProgressModel",
          "model_module_version": "1.5.0",
          "state": {
            "_dom_classes": [],
            "_model_module": "@jupyter-widgets/controls",
            "_model_module_version": "1.5.0",
            "_model_name": "FloatProgressModel",
            "_view_count": null,
            "_view_module": "@jupyter-widgets/controls",
            "_view_module_version": "1.5.0",
            "_view_name": "ProgressView",
            "bar_style": "success",
            "description": "",
            "description_tooltip": null,
            "layout": "IPY_MODEL_340c23e1a81f466ba70eb896d9b7d0aa",
            "max": 9,
            "min": 0,
            "orientation": "horizontal",
            "style": "IPY_MODEL_320b94e1df3942f7a01534f357d578e0",
            "value": 9
          }
        },
        "0fd0f2ff209b4f5abcf0748ccf3c7885": {
          "model_module": "@jupyter-widgets/controls",
          "model_name": "HTMLModel",
          "model_module_version": "1.5.0",
          "state": {
            "_dom_classes": [],
            "_model_module": "@jupyter-widgets/controls",
            "_model_module_version": "1.5.0",
            "_model_name": "HTMLModel",
            "_view_count": null,
            "_view_module": "@jupyter-widgets/controls",
            "_view_module_version": "1.5.0",
            "_view_name": "HTMLView",
            "description": "",
            "description_tooltip": null,
            "layout": "IPY_MODEL_741b22d42f554ac9ab84e12a02edbf0d",
            "placeholder": "​",
            "style": "IPY_MODEL_8b3cc717cf68477aa6491338923e13a5",
            "value": " 9/9 [00:09&lt;00:00,  1.38it/s]"
          }
        },
        "399e2e9e8f914bf58cd1eb9e790190e0": {
          "model_module": "@jupyter-widgets/base",
          "model_name": "LayoutModel",
          "model_module_version": "1.2.0",
          "state": {
            "_model_module": "@jupyter-widgets/base",
            "_model_module_version": "1.2.0",
            "_model_name": "LayoutModel",
            "_view_count": null,
            "_view_module": "@jupyter-widgets/base",
            "_view_module_version": "1.2.0",
            "_view_name": "LayoutView",
            "align_content": null,
            "align_items": null,
            "align_self": null,
            "border": null,
            "bottom": null,
            "display": null,
            "flex": null,
            "flex_flow": null,
            "grid_area": null,
            "grid_auto_columns": null,
            "grid_auto_flow": null,
            "grid_auto_rows": null,
            "grid_column": null,
            "grid_gap": null,
            "grid_row": null,
            "grid_template_areas": null,
            "grid_template_columns": null,
            "grid_template_rows": null,
            "height": null,
            "justify_content": null,
            "justify_items": null,
            "left": null,
            "margin": null,
            "max_height": null,
            "max_width": null,
            "min_height": null,
            "min_width": null,
            "object_fit": null,
            "object_position": null,
            "order": null,
            "overflow": null,
            "overflow_x": null,
            "overflow_y": null,
            "padding": null,
            "right": null,
            "top": null,
            "visibility": null,
            "width": null
          }
        },
        "a054e44885d949269a50c19ac32b98a7": {
          "model_module": "@jupyter-widgets/base",
          "model_name": "LayoutModel",
          "model_module_version": "1.2.0",
          "state": {
            "_model_module": "@jupyter-widgets/base",
            "_model_module_version": "1.2.0",
            "_model_name": "LayoutModel",
            "_view_count": null,
            "_view_module": "@jupyter-widgets/base",
            "_view_module_version": "1.2.0",
            "_view_name": "LayoutView",
            "align_content": null,
            "align_items": null,
            "align_self": null,
            "border": null,
            "bottom": null,
            "display": null,
            "flex": null,
            "flex_flow": null,
            "grid_area": null,
            "grid_auto_columns": null,
            "grid_auto_flow": null,
            "grid_auto_rows": null,
            "grid_column": null,
            "grid_gap": null,
            "grid_row": null,
            "grid_template_areas": null,
            "grid_template_columns": null,
            "grid_template_rows": null,
            "height": null,
            "justify_content": null,
            "justify_items": null,
            "left": null,
            "margin": null,
            "max_height": null,
            "max_width": null,
            "min_height": null,
            "min_width": null,
            "object_fit": null,
            "object_position": null,
            "order": null,
            "overflow": null,
            "overflow_x": null,
            "overflow_y": null,
            "padding": null,
            "right": null,
            "top": null,
            "visibility": null,
            "width": null
          }
        },
        "992c7e80546d4db1a77a8232632a2cfc": {
          "model_module": "@jupyter-widgets/controls",
          "model_name": "DescriptionStyleModel",
          "model_module_version": "1.5.0",
          "state": {
            "_model_module": "@jupyter-widgets/controls",
            "_model_module_version": "1.5.0",
            "_model_name": "DescriptionStyleModel",
            "_view_count": null,
            "_view_module": "@jupyter-widgets/base",
            "_view_module_version": "1.2.0",
            "_view_name": "StyleView",
            "description_width": ""
          }
        },
        "340c23e1a81f466ba70eb896d9b7d0aa": {
          "model_module": "@jupyter-widgets/base",
          "model_name": "LayoutModel",
          "model_module_version": "1.2.0",
          "state": {
            "_model_module": "@jupyter-widgets/base",
            "_model_module_version": "1.2.0",
            "_model_name": "LayoutModel",
            "_view_count": null,
            "_view_module": "@jupyter-widgets/base",
            "_view_module_version": "1.2.0",
            "_view_name": "LayoutView",
            "align_content": null,
            "align_items": null,
            "align_self": null,
            "border": null,
            "bottom": null,
            "display": null,
            "flex": null,
            "flex_flow": null,
            "grid_area": null,
            "grid_auto_columns": null,
            "grid_auto_flow": null,
            "grid_auto_rows": null,
            "grid_column": null,
            "grid_gap": null,
            "grid_row": null,
            "grid_template_areas": null,
            "grid_template_columns": null,
            "grid_template_rows": null,
            "height": null,
            "justify_content": null,
            "justify_items": null,
            "left": null,
            "margin": null,
            "max_height": null,
            "max_width": null,
            "min_height": null,
            "min_width": null,
            "object_fit": null,
            "object_position": null,
            "order": null,
            "overflow": null,
            "overflow_x": null,
            "overflow_y": null,
            "padding": null,
            "right": null,
            "top": null,
            "visibility": null,
            "width": null
          }
        },
        "320b94e1df3942f7a01534f357d578e0": {
          "model_module": "@jupyter-widgets/controls",
          "model_name": "ProgressStyleModel",
          "model_module_version": "1.5.0",
          "state": {
            "_model_module": "@jupyter-widgets/controls",
            "_model_module_version": "1.5.0",
            "_model_name": "ProgressStyleModel",
            "_view_count": null,
            "_view_module": "@jupyter-widgets/base",
            "_view_module_version": "1.2.0",
            "_view_name": "StyleView",
            "bar_color": null,
            "description_width": ""
          }
        },
        "741b22d42f554ac9ab84e12a02edbf0d": {
          "model_module": "@jupyter-widgets/base",
          "model_name": "LayoutModel",
          "model_module_version": "1.2.0",
          "state": {
            "_model_module": "@jupyter-widgets/base",
            "_model_module_version": "1.2.0",
            "_model_name": "LayoutModel",
            "_view_count": null,
            "_view_module": "@jupyter-widgets/base",
            "_view_module_version": "1.2.0",
            "_view_name": "LayoutView",
            "align_content": null,
            "align_items": null,
            "align_self": null,
            "border": null,
            "bottom": null,
            "display": null,
            "flex": null,
            "flex_flow": null,
            "grid_area": null,
            "grid_auto_columns": null,
            "grid_auto_flow": null,
            "grid_auto_rows": null,
            "grid_column": null,
            "grid_gap": null,
            "grid_row": null,
            "grid_template_areas": null,
            "grid_template_columns": null,
            "grid_template_rows": null,
            "height": null,
            "justify_content": null,
            "justify_items": null,
            "left": null,
            "margin": null,
            "max_height": null,
            "max_width": null,
            "min_height": null,
            "min_width": null,
            "object_fit": null,
            "object_position": null,
            "order": null,
            "overflow": null,
            "overflow_x": null,
            "overflow_y": null,
            "padding": null,
            "right": null,
            "top": null,
            "visibility": null,
            "width": null
          }
        },
        "8b3cc717cf68477aa6491338923e13a5": {
          "model_module": "@jupyter-widgets/controls",
          "model_name": "DescriptionStyleModel",
          "model_module_version": "1.5.0",
          "state": {
            "_model_module": "@jupyter-widgets/controls",
            "_model_module_version": "1.5.0",
            "_model_name": "DescriptionStyleModel",
            "_view_count": null,
            "_view_module": "@jupyter-widgets/base",
            "_view_module_version": "1.2.0",
            "_view_name": "StyleView",
            "description_width": ""
          }
        }
      }
    }
  },
  "cells": [
    {
      "cell_type": "markdown",
      "metadata": {
        "id": "view-in-github",
        "colab_type": "text"
      },
      "source": [
        "<a href=\"https://colab.research.google.com/github/rudradeb1947/Lymphography_Data_Classification_Using_XAI/blob/main/Untitled4.ipynb\" target=\"_parent\"><img src=\"https://colab.research.google.com/assets/colab-badge.svg\" alt=\"Open In Colab\"/></a>"
      ]
    },
    {
      "cell_type": "code",
      "execution_count": 1,
      "metadata": {
        "colab": {
          "base_uri": "https://localhost:8080/"
        },
        "id": "SJ1zax8tjpb4",
        "outputId": "cb3bf5bf-360b-4591-b7b5-71438d62bf2f"
      },
      "outputs": [
        {
          "output_type": "stream",
          "name": "stdout",
          "text": [
            "Requirement already satisfied: shap in /usr/local/lib/python3.11/dist-packages (0.47.2)\n",
            "Requirement already satisfied: numpy in /usr/local/lib/python3.11/dist-packages (from shap) (2.0.2)\n",
            "Requirement already satisfied: scipy in /usr/local/lib/python3.11/dist-packages (from shap) (1.15.3)\n",
            "Requirement already satisfied: scikit-learn in /usr/local/lib/python3.11/dist-packages (from shap) (1.6.1)\n",
            "Requirement already satisfied: pandas in /usr/local/lib/python3.11/dist-packages (from shap) (2.2.2)\n",
            "Requirement already satisfied: tqdm>=4.27.0 in /usr/local/lib/python3.11/dist-packages (from shap) (4.67.1)\n",
            "Requirement already satisfied: packaging>20.9 in /usr/local/lib/python3.11/dist-packages (from shap) (24.2)\n",
            "Requirement already satisfied: slicer==0.0.8 in /usr/local/lib/python3.11/dist-packages (from shap) (0.0.8)\n",
            "Requirement already satisfied: numba>=0.54 in /usr/local/lib/python3.11/dist-packages (from shap) (0.60.0)\n",
            "Requirement already satisfied: cloudpickle in /usr/local/lib/python3.11/dist-packages (from shap) (3.1.1)\n",
            "Requirement already satisfied: typing-extensions in /usr/local/lib/python3.11/dist-packages (from shap) (4.13.2)\n",
            "Requirement already satisfied: llvmlite<0.44,>=0.43.0dev0 in /usr/local/lib/python3.11/dist-packages (from numba>=0.54->shap) (0.43.0)\n",
            "Requirement already satisfied: python-dateutil>=2.8.2 in /usr/local/lib/python3.11/dist-packages (from pandas->shap) (2.9.0.post0)\n",
            "Requirement already satisfied: pytz>=2020.1 in /usr/local/lib/python3.11/dist-packages (from pandas->shap) (2025.2)\n",
            "Requirement already satisfied: tzdata>=2022.7 in /usr/local/lib/python3.11/dist-packages (from pandas->shap) (2025.2)\n",
            "Requirement already satisfied: joblib>=1.2.0 in /usr/local/lib/python3.11/dist-packages (from scikit-learn->shap) (1.5.0)\n",
            "Requirement already satisfied: threadpoolctl>=3.1.0 in /usr/local/lib/python3.11/dist-packages (from scikit-learn->shap) (3.6.0)\n",
            "Requirement already satisfied: six>=1.5 in /usr/local/lib/python3.11/dist-packages (from python-dateutil>=2.8.2->pandas->shap) (1.17.0)\n"
          ]
        }
      ],
      "source": [
        "!pip install shap"
      ]
    },
    {
      "cell_type": "code",
      "source": [
        "##importing libraries##\n",
        "import numpy as np\n",
        "import pandas as pd\n",
        "import matplotlib.pyplot as plt\n",
        "import scipy.io as sio\n",
        "from sklearn.preprocessing import MinMaxScaler\n",
        "from sklearn.neighbors import KNeighborsClassifier\n",
        "from sklearn.neural_network import MLPClassifier\n",
        "from sklearn.model_selection import train_test_split,cross_val_score\n",
        "from sklearn.metrics import accuracy_score,classification_report\n",
        "from imblearn.over_sampling import ADASYN\n",
        "from collections import Counter\n",
        "import seaborn as sns\n",
        "import shap"
      ],
      "metadata": {
        "id": "KiTW8Ae5jriA"
      },
      "execution_count": 2,
      "outputs": []
    },
    {
      "cell_type": "code",
      "source": [
        "###Data Fetching###\n",
        "lymph_file=\"/content/lymph_dataset.mat\"\n",
        "lymph_data=sio.loadmat(lymph_file)\n",
        "print(lymph_data)\n",
        "X_raw=lymph_data['norm_data']\n",
        "y_raw=lymph_data['target']\n",
        "print(X_raw.shape)\n",
        "print(y_raw.shape)\n",
        "Y=np.ravel(y_raw)"
      ],
      "metadata": {
        "colab": {
          "base_uri": "https://localhost:8080/"
        },
        "id": "OaPhYxkEjrkq",
        "outputId": "ad5af91e-5942-4ed8-d92c-ec2930578214"
      },
      "execution_count": 3,
      "outputs": [
        {
          "output_type": "stream",
          "name": "stdout",
          "text": [
            "{'__header__': b'MATLAB 5.0 MAT-file, Platform: PCWIN64, Created on: Fri Dec 20 20:40:28 2024', '__version__': '1.0', '__globals__': [], 'inpdata': array([[3, 4, 2, ..., 1, 2, 2],\n",
            "       [2, 3, 2, ..., 2, 2, 2],\n",
            "       [3, 3, 2, ..., 2, 2, 7],\n",
            "       ...,\n",
            "       [3, 2, 2, ..., 2, 2, 4],\n",
            "       [2, 2, 1, ..., 2, 2, 1],\n",
            "       [2, 2, 2, ..., 2, 2, 6]], dtype=uint8), 'norm_data': array([[4, 2, 1, ..., 1, 2, 2],\n",
            "       [3, 2, 1, ..., 2, 2, 2],\n",
            "       [3, 2, 2, ..., 2, 2, 7],\n",
            "       ...,\n",
            "       [2, 2, 1, ..., 2, 2, 4],\n",
            "       [2, 1, 1, ..., 2, 2, 1],\n",
            "       [2, 2, 2, ..., 2, 2, 6]], dtype=uint8), 'target': array([[3],\n",
            "       [2],\n",
            "       [3],\n",
            "       [3],\n",
            "       [2],\n",
            "       [2],\n",
            "       [2],\n",
            "       [2],\n",
            "       [3],\n",
            "       [3],\n",
            "       [2],\n",
            "       [2],\n",
            "       [2],\n",
            "       [3],\n",
            "       [4],\n",
            "       [2],\n",
            "       [2],\n",
            "       [2],\n",
            "       [2],\n",
            "       [2],\n",
            "       [3],\n",
            "       [3],\n",
            "       [2],\n",
            "       [2],\n",
            "       [3],\n",
            "       [3],\n",
            "       [3],\n",
            "       [3],\n",
            "       [2],\n",
            "       [3],\n",
            "       [3],\n",
            "       [3],\n",
            "       [2],\n",
            "       [2],\n",
            "       [2],\n",
            "       [2],\n",
            "       [4],\n",
            "       [3],\n",
            "       [3],\n",
            "       [3],\n",
            "       [3],\n",
            "       [3],\n",
            "       [2],\n",
            "       [2],\n",
            "       [4],\n",
            "       [3],\n",
            "       [2],\n",
            "       [2],\n",
            "       [2],\n",
            "       [2],\n",
            "       [2],\n",
            "       [3],\n",
            "       [2],\n",
            "       [2],\n",
            "       [2],\n",
            "       [3],\n",
            "       [3],\n",
            "       [2],\n",
            "       [3],\n",
            "       [2],\n",
            "       [3],\n",
            "       [2],\n",
            "       [3],\n",
            "       [2],\n",
            "       [2],\n",
            "       [3],\n",
            "       [3],\n",
            "       [2],\n",
            "       [3],\n",
            "       [3],\n",
            "       [2],\n",
            "       [3],\n",
            "       [2],\n",
            "       [3],\n",
            "       [3],\n",
            "       [2],\n",
            "       [2],\n",
            "       [2],\n",
            "       [1],\n",
            "       [3],\n",
            "       [3],\n",
            "       [2],\n",
            "       [3],\n",
            "       [3],\n",
            "       [3],\n",
            "       [2],\n",
            "       [2],\n",
            "       [2],\n",
            "       [3],\n",
            "       [2],\n",
            "       [3],\n",
            "       [2],\n",
            "       [2],\n",
            "       [2],\n",
            "       [3],\n",
            "       [3],\n",
            "       [2],\n",
            "       [2],\n",
            "       [2],\n",
            "       [2],\n",
            "       [3],\n",
            "       [2],\n",
            "       [2],\n",
            "       [2],\n",
            "       [2],\n",
            "       [3],\n",
            "       [2],\n",
            "       [3],\n",
            "       [2],\n",
            "       [2],\n",
            "       [2],\n",
            "       [3],\n",
            "       [2],\n",
            "       [3],\n",
            "       [3],\n",
            "       [3],\n",
            "       [3],\n",
            "       [2],\n",
            "       [3],\n",
            "       [3],\n",
            "       [2],\n",
            "       [2],\n",
            "       [2],\n",
            "       [2],\n",
            "       [2],\n",
            "       [3],\n",
            "       [2],\n",
            "       [2],\n",
            "       [3],\n",
            "       [2],\n",
            "       [2],\n",
            "       [3],\n",
            "       [3],\n",
            "       [2],\n",
            "       [2],\n",
            "       [2],\n",
            "       [1],\n",
            "       [3],\n",
            "       [2],\n",
            "       [4],\n",
            "       [2],\n",
            "       [3],\n",
            "       [2],\n",
            "       [3],\n",
            "       [2],\n",
            "       [3],\n",
            "       [2],\n",
            "       [2]], dtype=uint8)}\n",
            "(148, 18)\n",
            "(148, 1)\n"
          ]
        }
      ]
    },
    {
      "cell_type": "code",
      "source": [
        "###balancing the dataset###\n",
        "counter=Counter(Y)\n",
        "print(\"before\",counter)\n",
        "\n",
        "ada=ADASYN(n_neighbors=1)\n",
        "X_resamp,Y_resamp=ada.fit_resample(X_raw,Y)\n",
        "\n",
        "new_counter=Counter(Y_resamp)\n",
        "print(\"after\",new_counter)"
      ],
      "metadata": {
        "colab": {
          "base_uri": "https://localhost:8080/"
        },
        "id": "DHHM3iQLjrml",
        "outputId": "899301bd-cebc-4a06-88c2-aed090e0487b"
      },
      "execution_count": 4,
      "outputs": [
        {
          "output_type": "stream",
          "name": "stdout",
          "text": [
            "before Counter({np.uint8(2): 81, np.uint8(3): 61, np.uint8(4): 4, np.uint8(1): 2})\n",
            "after Counter({np.uint8(4): 82, np.uint8(2): 81, np.uint8(1): 81, np.uint8(3): 78})\n"
          ]
        }
      ]
    },
    {
      "cell_type": "code",
      "source": [
        "##data normalizing##\n",
        "scaler=MinMaxScaler()\n",
        "X=scaler.fit_transform(X_resamp)\n",
        "print(X)"
      ],
      "metadata": {
        "colab": {
          "base_uri": "https://localhost:8080/"
        },
        "id": "GlSvSVvSjrpF",
        "outputId": "325fdaed-a7d9-4ed6-efe8-f724fb12a905"
      },
      "execution_count": 5,
      "outputs": [
        {
          "output_type": "stream",
          "name": "stdout",
          "text": [
            "[[0.02380952 0.00406504 0.         ... 0.         0.00408163 0.00396825]\n",
            " [0.01587302 0.00406504 0.         ... 0.00406504 0.00408163 0.00396825]\n",
            " [0.01587302 0.00406504 0.00406504 ... 0.00406504 0.00408163 0.02380952]\n",
            " ...\n",
            " [0.01587302 0.6504065  0.6504065  ... 0.6504065  0.65306122 0.02380952]\n",
            " [0.01587302 0.47154472 0.47154472 ... 0.47154472 0.47346939 0.02380952]\n",
            " [0.01587302 0.93495935 0.93495935 ... 0.93495935 0.93877551 0.02380952]]\n"
          ]
        }
      ]
    },
    {
      "cell_type": "code",
      "source": [
        "###Test_Train_Split###\n",
        "X_train,X_test,Y_train,Y_test=train_test_split(X,Y_resamp,test_size=0.2,random_state=10)\n",
        "results=[]\n",
        "train_arr=[]"
      ],
      "metadata": {
        "id": "rhj63xrwjrre"
      },
      "execution_count": 6,
      "outputs": []
    },
    {
      "cell_type": "code",
      "source": [
        "###Model Calling###\n",
        "for k in range(1,10):\n",
        "    clf=KNeighborsClassifier(n_neighbors=k)\n",
        "    ##training the model.####\n",
        "    clf.fit(X_train,Y_train)\n",
        "    train_accuracy=clf.score(X_train,Y_train)\n",
        "    train_arr.append(train_accuracy)\n",
        "###Cross_validation accuracy over k neighbours.###\n",
        "    score=cross_val_score(clf,X_test,Y_test,cv=4)\n",
        "    results.append(np.mean(score))\n",
        "print(results)\n",
        "###training accuracy####\n",
        "train_accuracy_best=max(train_arr)\n",
        "train_accuracy_worst=min(train_arr)\n",
        "print(f\"best training accuracy:{train_accuracy_best*100:.2f}%\")\n",
        "print(f\"worst training accuracy:{train_accuracy_worst*100:.2f}%\")\n",
        "print(f\"mean_traing accuracy:{np.mean(train_arr)*100:.2f}\")"
      ],
      "metadata": {
        "colab": {
          "base_uri": "https://localhost:8080/"
        },
        "id": "AvrV2tzljrti",
        "outputId": "6f8ee283-9a18-4ce3-f218-5b4d89589265"
      },
      "execution_count": 7,
      "outputs": [
        {
          "output_type": "stream",
          "name": "stdout",
          "text": [
            "[np.float64(0.8299632352941176), np.float64(0.8299632352941176), np.float64(0.8759191176470589), np.float64(0.8621323529411764), np.float64(0.8768382352941176), np.float64(0.8768382352941176), np.float64(0.8777573529411764), np.float64(0.8465073529411764), np.float64(0.8621323529411764)]\n",
            "best training accuracy:100.00%\n",
            "worst training accuracy:85.60%\n",
            "mean_traing accuracy:89.67\n"
          ]
        }
      ]
    },
    {
      "cell_type": "code",
      "source": [
        "###model Graph##\n",
        "k_list=range(1,10)\n",
        "sns.lineplot(x=k_list,y=results,marker='o')\n",
        "plt.ylim(0.4,1.0)\n",
        "plt.xlabel(\"k_values\")\n",
        "plt.ylabel(\"accuracy\")\n",
        "plt.title(\"Lymphosercoma classifier accuracy\")\n",
        "plt.show()"
      ],
      "metadata": {
        "colab": {
          "base_uri": "https://localhost:8080/",
          "height": 472
        },
        "id": "2QzRxQHIjrxH",
        "outputId": "e5e907fa-87b6-4fd1-bd29-8ae57566f6f9"
      },
      "execution_count": 8,
      "outputs": [
        {
          "output_type": "display_data",
          "data": {
            "text/plain": [
              "<Figure size 640x480 with 1 Axes>"
            ],
            "image/png": "[encoded data removed]"
          },
          "metadata": {}
        }
      ]
    },
    {
      "cell_type": "code",
      "source": [
        "####model prediction.###\n",
        "test_pred=clf.predict(X_test)\n",
        "##classification report.####\n",
        "accuracy=accuracy_score(Y_test,test_pred)\n",
        "print(f\"Accuracy: {accuracy * 100:.2f}%\")\n",
        "print(\"\\nClassification Report:\")\n",
        "print(classification_report(Y_test,test_pred))\n",
        "mean= np.mean(results)\n",
        "Cross_best=max(results)\n",
        "print(f\"Cross_validation best_accuracy:{Cross_best*100:.2f}\")\n",
        "print(f\"Cross_validation avarage_accuracy:{mean*100:.2f}\")\n",
        "st_dv=np.std(results)\n",
        "print(f\"Cross _validation standard_deviation:{st_dv*10:.2f}\")"
      ],
      "metadata": {
        "colab": {
          "base_uri": "https://localhost:8080/"
        },
        "id": "oJaNRj4_j7-r",
        "outputId": "92d69657-f2f2-464e-94df-fcae09b10ee0"
      },
      "execution_count": 9,
      "outputs": [
        {
          "output_type": "stream",
          "name": "stdout",
          "text": [
            "Accuracy: 92.31%\n",
            "\n",
            "Classification Report:\n",
            "              precision    recall  f1-score   support\n",
            "\n",
            "           1       1.00      1.00      1.00        17\n",
            "           2       0.81      0.87      0.84        15\n",
            "           3       0.92      0.79      0.85        14\n",
            "           4       0.95      1.00      0.97        19\n",
            "\n",
            "    accuracy                           0.92        65\n",
            "   macro avg       0.92      0.91      0.91        65\n",
            "weighted avg       0.92      0.92      0.92        65\n",
            "\n",
            "Cross_validation best_accuracy:87.78\n",
            "Cross_validation avarage_accuracy:85.98\n",
            "Cross _validation standard_deviation:0.19\n"
          ]
        }
      ]
    },
    {
      "cell_type": "code",
      "source": [
        "import shap\n",
        "import pandas as pd\n",
        "import numpy as np\n",
        "import matplotlib.pyplot as plt\n",
        "\n",
        "# Step 0 — Convert X_test to DataFrame (same as your LIME code)\n",
        "df_X = pd.DataFrame(X_test)\n",
        "\n",
        "# Step 1 — Create SHAP KernelExplainer for KNN model\n",
        "explainer = shap.KernelExplainer(clf.predict_proba, shap.sample(df_X, 100))\n",
        "# Sample 100 rows as background (adjust if needed)\n",
        "\n",
        "# Step 2 — Choose an instance to explain (same as LIME)\n",
        "instance = df_X.iloc[7:16]  # Keep it as DataFrame slice\n",
        "\n",
        "# Step 3 — Compute SHAP values for the instance (all classes)\n",
        "shap_values = explainer.shap_values(instance)\n",
        "\n",
        "# Step 4 — Your class names (same as LIME)\n",
        "class_names = ['normal find', 'fibrosis', 'metastesis', 'malignant']\n",
        "\n",
        "# Step 5 — Display explanations (one bar plot per class)\n",
        "# The shap_values array seems to have an unexpected shape.\n",
        "# Assuming it's (1, num_features, num_classes), we need to adjust the indexing:\n",
        "for class_idx, class_label in enumerate(class_names):\n",
        "    # Accessing SHAP values for the instance, all features, and the current class\n",
        "    shap_vals_for_class = shap_values[0][:, class_idx]\n",
        "\n",
        "    feature_names = df_X.columns\n",
        "    weights = shap_vals_for_class\n",
        "\n",
        "    # Sort features by absolute SHAP value (optional for clearer plot)\n",
        "    sorted_idx = np.argsort(np.abs(weights))[::-1]\n",
        "    feature_names_sorted = feature_names[sorted_idx]\n",
        "    weights_sorted = weights[sorted_idx]\n",
        "\n",
        "    # Plot\n",
        "    plt.figure(figsize=(8, 5))\n",
        "    plt.bar(feature_names_sorted, weights_sorted, color='red')\n",
        "    plt.xlabel('Feature')\n",
        "    plt.ylabel('SHAP Value (Impact)')\n",
        "    plt.title(f'SHAP Explanation for Class: {class_label}')\n",
        "    plt.xticks(rotation=90)\n",
        "    plt.axhline(0, color='black', linewidth=0.7)\n",
        "    plt.tight_layout()\n",
        "    plt.show()"
      ],
      "metadata": {
        "colab": {
          "base_uri": "https://localhost:8080/",
          "height": 1000,
          "referenced_widgets": [
            "c48f8d7064354cc289069c74e934a331",
            "ce3ccd0fef0041b49e5feb8038f07ef5",
            "e5113eaf6e304e25a3b168225a023797",
            "0fd0f2ff209b4f5abcf0748ccf3c7885",
            "399e2e9e8f914bf58cd1eb9e790190e0",
            "a054e44885d949269a50c19ac32b98a7",
            "992c7e80546d4db1a77a8232632a2cfc",
            "340c23e1a81f466ba70eb896d9b7d0aa",
            "320b94e1df3942f7a01534f357d578e0",
            "741b22d42f554ac9ab84e12a02edbf0d",
            "8b3cc717cf68477aa6491338923e13a5"
          ]
        },
        "id": "aqr0vA2Pj8BY",
        "outputId": "c8ae97f7-545e-414a-c5a0-14acb15b9042"
      },
      "execution_count": 10,
      "outputs": [
        {
          "output_type": "display_data",
          "data": {
            "text/plain": [
              "  0%|          | 0/9 [00:00<?, ?it/s]"
            ],
            "application/vnd.jupyter.widget-view+json": {
              "version_major": 2,
              "version_minor": 0,
              "model_id": "c48f8d7064354cc289069c74e934a331"
            }
          },
          "metadata": {}
        },
        {
          "output_type": "display_data",
          "data": {
            "text/plain": [
              "<Figure size 800x500 with 1 Axes>"
            ],
            "image/png": "[encoded data removed]"
          },
          "metadata": {}
        },
        {
          "output_type": "display_data",
          "data": {
            "text/plain": [
              "<Figure size 800x500 with 1 Axes>"
            ],
            "image/png": "[encoded data removed]"
          },
          "metadata": {}
        },
        {
          "output_type": "display_data",
          "data": {
            "text/plain": [
              "<Figure size 800x500 with 1 Axes>"
            ],
            "image/png": "[encoded data removed]"
          },
          "metadata": {}
        },
        {
          "output_type": "display_data",
          "data": {
            "text/plain": [
              "<Figure size 800x500 with 1 Axes>"
            ],
            "image/png": "[encoded data removed]"
          },
          "metadata": {}
        }
      ]
    }
  ]
}