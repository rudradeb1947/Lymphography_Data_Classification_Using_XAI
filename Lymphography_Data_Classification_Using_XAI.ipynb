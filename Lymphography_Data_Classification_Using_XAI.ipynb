{
  "cells": [
    {
      "cell_type": "code",
      "execution_count": null,
      "metadata": {
        "colab": {
          "base_uri": "https://localhost:8080/"
        },
        "id": "3fUdgnfwxUlu",
        "outputId": "8461ccd7-651a-44f4-ab6b-44878ccafe23"
      },
      "outputs": [
        {
          "output_type": "stream",
          "name": "stdout",
          "text": [
            "Requirement already satisfied: shap in /usr/local/lib/python3.11/dist-packages (0.47.2)\n",
            "Requirement already satisfied: numpy in /usr/local/lib/python3.11/dist-packages (from shap) (2.0.2)\n",
            "Requirement already satisfied: scipy in /usr/local/lib/python3.11/dist-packages (from shap) (1.15.3)\n",
            "Requirement already satisfied: scikit-learn in /usr/local/lib/python3.11/dist-packages (from shap) (1.6.1)\n",
            "Requirement already satisfied: pandas in /usr/local/lib/python3.11/dist-packages (from shap) (2.2.2)\n",
            "Requirement already satisfied: tqdm>=4.27.0 in /usr/local/lib/python3.11/dist-packages (from shap) (4.67.1)\n",
            "Requirement already satisfied: packaging>20.9 in /usr/local/lib/python3.11/dist-packages (from shap) (24.2)\n",
            "Requirement already satisfied: slicer==0.0.8 in /usr/local/lib/python3.11/dist-packages (from shap) (0.0.8)\n",
            "Requirement already satisfied: numba>=0.54 in /usr/local/lib/python3.11/dist-packages (from shap) (0.60.0)\n",
            "Requirement already satisfied: cloudpickle in /usr/local/lib/python3.11/dist-packages (from shap) (3.1.1)\n",
            "Requirement already satisfied: typing-extensions in /usr/local/lib/python3.11/dist-packages (from shap) (4.13.2)\n",
            "Requirement already satisfied: llvmlite<0.44,>=0.43.0dev0 in /usr/local/lib/python3.11/dist-packages (from numba>=0.54->shap) (0.43.0)\n",
            "Requirement already satisfied: python-dateutil>=2.8.2 in /usr/local/lib/python3.11/dist-packages (from pandas->shap) (2.9.0.post0)\n",
            "Requirement already satisfied: pytz>=2020.1 in /usr/local/lib/python3.11/dist-packages (from pandas->shap) (2025.2)\n",
            "Requirement already satisfied: tzdata>=2022.7 in /usr/local/lib/python3.11/dist-packages (from pandas->shap) (2025.2)\n",
            "Requirement already satisfied: joblib>=1.2.0 in /usr/local/lib/python3.11/dist-packages (from scikit-learn->shap) (1.5.0)\n",
            "Requirement already satisfied: threadpoolctl>=3.1.0 in /usr/local/lib/python3.11/dist-packages (from scikit-learn->shap) (3.6.0)\n",
            "Requirement already satisfied: six>=1.5 in /usr/local/lib/python3.11/dist-packages (from python-dateutil>=2.8.2->pandas->shap) (1.17.0)\n"
          ]
        }
      ],
      "source": [
        "!pip install shap"
      ]
    },
    {
      "cell_type": "code",
      "execution_count": null,
      "metadata": {
        "id": "qlj1eCR8xUlv"
      },
      "outputs": [],
      "source": [
        "##importing libraries##\n",
        "import numpy as np\n",
        "import pandas as pd\n",
        "import matplotlib.pyplot as plt\n",
        "import scipy.io as sio\n",
        "from sklearn.preprocessing import MinMaxScaler\n",
        "from sklearn.neighbors import KNeighborsClassifier\n",
        "from sklearn.neural_network import MLPClassifier\n",
        "from sklearn.model_selection import train_test_split,cross_val_score\n",
        "from sklearn.metrics import accuracy_score,classification_report\n",
        "from imblearn.over_sampling import ADASYN\n",
        "from collections import Counter\n",
        "import seaborn as sns\n",
        "import shap"
      ]
    },
    {
      "cell_type": "code",
      "execution_count": null,
      "metadata": {
        "colab": {
          "base_uri": "https://localhost:8080/"
        },
        "id": "_e9Y1BOYxUlw",
        "outputId": "88b66558-f044-4283-cf07-f13ab1f48ead"
      },
      "outputs": [
        {
          "output_type": "stream",
          "name": "stdout",
          "text": [
            "{'__header__': b'MATLAB 5.0 MAT-file, Platform: PCWIN64, Created on: Fri Dec 20 20:40:28 2024', '__version__': '1.0', '__globals__': [], 'inpdata': array([[3, 4, 2, ..., 1, 2, 2],\n",
            "       [2, 3, 2, ..., 2, 2, 2],\n",
            "       [3, 3, 2, ..., 2, 2, 7],\n",
            "       ...,\n",
            "       [3, 2, 2, ..., 2, 2, 4],\n",
            "       [2, 2, 1, ..., 2, 2, 1],\n",
            "       [2, 2, 2, ..., 2, 2, 6]], dtype=uint8), 'norm_data': array([[4, 2, 1, ..., 1, 2, 2],\n",
            "       [3, 2, 1, ..., 2, 2, 2],\n",
            "       [3, 2, 2, ..., 2, 2, 7],\n",
            "       ...,\n",
            "       [2, 2, 1, ..., 2, 2, 4],\n",
            "       [2, 1, 1, ..., 2, 2, 1],\n",
            "       [2, 2, 2, ..., 2, 2, 6]], dtype=uint8), 'target': array([[3],\n",
            "       [2],\n",
            "       [3],\n",
            "       [3],\n",
            "       [2],\n",
            "       [2],\n",
            "       [2],\n",
            "       [2],\n",
            "       [3],\n",
            "       [3],\n",
            "       [2],\n",
            "       [2],\n",
            "       [2],\n",
            "       [3],\n",
            "       [4],\n",
            "       [2],\n",
            "       [2],\n",
            "       [2],\n",
            "       [2],\n",
            "       [2],\n",
            "       [3],\n",
            "       [3],\n",
            "       [2],\n",
            "       [2],\n",
            "       [3],\n",
            "       [3],\n",
            "       [3],\n",
            "       [3],\n",
            "       [2],\n",
            "       [3],\n",
            "       [3],\n",
            "       [3],\n",
            "       [2],\n",
            "       [2],\n",
            "       [2],\n",
            "       [2],\n",
            "       [4],\n",
            "       [3],\n",
            "       [3],\n",
            "       [3],\n",
            "       [3],\n",
            "       [3],\n",
            "       [2],\n",
            "       [2],\n",
            "       [4],\n",
            "       [3],\n",
            "       [2],\n",
            "       [2],\n",
            "       [2],\n",
            "       [2],\n",
            "       [2],\n",
            "       [3],\n",
            "       [2],\n",
            "       [2],\n",
            "       [2],\n",
            "       [3],\n",
            "       [3],\n",
            "       [2],\n",
            "       [3],\n",
            "       [2],\n",
            "       [3],\n",
            "       [2],\n",
            "       [3],\n",
            "       [2],\n",
            "       [2],\n",
            "       [3],\n",
            "       [3],\n",
            "       [2],\n",
            "       [3],\n",
            "       [3],\n",
            "       [2],\n",
            "       [3],\n",
            "       [2],\n",
            "       [3],\n",
            "       [3],\n",
            "       [2],\n",
            "       [2],\n",
            "       [2],\n",
            "       [1],\n",
            "       [3],\n",
            "       [3],\n",
            "       [2],\n",
            "       [3],\n",
            "       [3],\n",
            "       [3],\n",
            "       [2],\n",
            "       [2],\n",
            "       [2],\n",
            "       [3],\n",
            "       [2],\n",
            "       [3],\n",
            "       [2],\n",
            "       [2],\n",
            "       [2],\n",
            "       [3],\n",
            "       [3],\n",
            "       [2],\n",
            "       [2],\n",
            "       [2],\n",
            "       [2],\n",
            "       [3],\n",
            "       [2],\n",
            "       [2],\n",
            "       [2],\n",
            "       [2],\n",
            "       [3],\n",
            "       [2],\n",
            "       [3],\n",
            "       [2],\n",
            "       [2],\n",
            "       [2],\n",
            "       [3],\n",
            "       [2],\n",
            "       [3],\n",
            "       [3],\n",
            "       [3],\n",
            "       [3],\n",
            "       [2],\n",
            "       [3],\n",
            "       [3],\n",
            "       [2],\n",
            "       [2],\n",
            "       [2],\n",
            "       [2],\n",
            "       [2],\n",
            "       [3],\n",
            "       [2],\n",
            "       [2],\n",
            "       [3],\n",
            "       [2],\n",
            "       [2],\n",
            "       [3],\n",
            "       [3],\n",
            "       [2],\n",
            "       [2],\n",
            "       [2],\n",
            "       [1],\n",
            "       [3],\n",
            "       [2],\n",
            "       [4],\n",
            "       [2],\n",
            "       [3],\n",
            "       [2],\n",
            "       [3],\n",
            "       [2],\n",
            "       [3],\n",
            "       [2],\n",
            "       [2]], dtype=uint8)}\n",
            "(148, 18)\n",
            "(148, 1)\n"
          ]
        }
      ],
      "source": [
        "###Data Fetching###\n",
        "lymph_file=\"/content/lymph_dataset.mat\"\n",
        "lymph_data=sio.loadmat(lymph_file)\n",
        "print(lymph_data)\n",
        "X_raw=lymph_data['norm_data']\n",
        "y_raw=lymph_data['target']\n",
        "print(X_raw.shape)\n",
        "print(y_raw.shape)\n",
        "Y=np.ravel(y_raw)\n",
        "\n"
      ]
    },
    {
      "cell_type": "code",
      "execution_count": null,
      "metadata": {
        "colab": {
          "base_uri": "https://localhost:8080/"
        },
        "id": "Foke4i1qxUlw",
        "outputId": "3203f1ad-7d98-468a-e2ea-ef22a7aac70c"
      },
      "outputs": [
        {
          "output_type": "stream",
          "name": "stdout",
          "text": [
            "before Counter({np.uint8(2): 81, np.uint8(3): 61, np.uint8(4): 4, np.uint8(1): 2})\n",
            "after Counter({np.uint8(4): 82, np.uint8(2): 81, np.uint8(1): 81, np.uint8(3): 78})\n"
          ]
        }
      ],
      "source": [
        "###balancing the dataset###\n",
        "counter=Counter(Y)\n",
        "print(\"before\",counter)\n",
        "\n",
        "ada=ADASYN(n_neighbors=1)\n",
        "X_resamp,Y_resamp=ada.fit_resample(X_raw,Y)\n",
        "\n",
        "new_counter=Counter(Y_resamp)\n",
        "print(\"after\",new_counter)\n"
      ]
    },
    {
      "cell_type": "code",
      "execution_count": null,
      "metadata": {
        "colab": {
          "base_uri": "https://localhost:8080/"
        },
        "id": "b4tnyV80xUlw",
        "outputId": "95c56582-8ccb-4d90-dff6-ea4ffa01c36c"
      },
      "outputs": [
        {
          "output_type": "stream",
          "name": "stdout",
          "text": [
            "[[0.01219512 0.0042735  0.         ... 0.         0.0041841  0.00398406]\n",
            " [0.00813008 0.0042735  0.         ... 0.0042735  0.0041841  0.00398406]\n",
            " [0.00813008 0.0042735  0.0042735  ... 0.0042735  0.0041841  0.02390438]\n",
            " ...\n",
            " [0.00813008 0.02136752 0.02136752 ... 0.02136752 0.0209205  0.02390438]\n",
            " [0.00813008 0.19230769 0.19230769 ... 0.19230769 0.18828452 0.02390438]\n",
            " [0.00813008 0.08119658 0.08119658 ... 0.08119658 0.07949791 0.02390438]]\n"
          ]
        }
      ],
      "source": [
        "##data normalizing##\n",
        "scaler=MinMaxScaler()\n",
        "X=scaler.fit_transform(X_resamp)\n",
        "print(X)\n"
      ]
    },
    {
      "cell_type": "code",
      "execution_count": null,
      "metadata": {
        "id": "52KvcXj9xUlw"
      },
      "outputs": [],
      "source": [
        "###Test_Train_Split###\n",
        "X_train,X_test,Y_train,Y_test=train_test_split(X,Y_resamp,test_size=0.2,random_state=10)\n",
        "results=[]\n",
        "train_arr=[]"
      ]
    },
    {
      "cell_type": "code",
      "execution_count": null,
      "metadata": {
        "colab": {
          "base_uri": "https://localhost:8080/"
        },
        "id": "6PXWBIHTxUlx",
        "outputId": "26d09cfe-82ed-4650-88a5-f3a9bb766fa6"
      },
      "outputs": [
        {
          "output_type": "stream",
          "name": "stdout",
          "text": [
            "[np.float64(0.8455882352941176), np.float64(0.7987132352941176), np.float64(0.8915441176470589), np.float64(0.8318014705882353), np.float64(0.8465073529411764), np.float64(0.8777573529411764), np.float64(0.8621323529411764), np.float64(0.8308823529411764), np.float64(0.8318014705882353)]\n",
            "best training accuracy:100.00%\n",
            "worst training accuracy:85.99%\n",
            "mean_traing accuracy:90.75\n"
          ]
        }
      ],
      "source": [
        "###Model Calling###\n",
        "for k in range(1,10):\n",
        "    clf=KNeighborsClassifier(n_neighbors=k)\n",
        "    ##training the model.####\n",
        "    clf.fit(X_train,Y_train)\n",
        "    train_accuracy=clf.score(X_train,Y_train)\n",
        "    train_arr.append(train_accuracy)\n",
        "###Cross_validation accuracy over k neighbours.###\n",
        "    score=cross_val_score(clf,X_test,Y_test,cv=4)\n",
        "    results.append(np.mean(score))\n",
        "print(results)\n",
        "###training accuracy####\n",
        "train_accuracy_best=max(train_arr)\n",
        "train_accuracy_worst=min(train_arr)\n",
        "print(f\"best training accuracy:{train_accuracy_best*100:.2f}%\")\n",
        "print(f\"worst training accuracy:{train_accuracy_worst*100:.2f}%\")\n",
        "print(f\"mean_traing accuracy:{np.mean(train_arr)*100:.2f}\")\n",
        "\n"
      ]
    },
    {
      "cell_type": "code",
      "execution_count": null,
      "metadata": {
        "colab": {
          "base_uri": "https://localhost:8080/",
          "height": 472
        },
        "id": "aV8oFzrVxUlx",
        "outputId": "ec35dd87-436d-47eb-a7ae-1621c230b643"
      },
      "outputs": [
        {
          "output_type": "display_data",
          "data": {
            "text/plain": [
              "<Figure size 640x480 with 1 Axes>"
            ],
            "image/png": "[encoded data removed]"
          },
          "metadata": {}
        }
      ],
      "source": [
        "###model Graph##\n",
        "k_list=range(1,10)\n",
        "sns.lineplot(x=k_list,y=results,marker='o')\n",
        "plt.ylim(0.4,1.0)\n",
        "plt.xlabel(\"k_values\")\n",
        "plt.ylabel(\"accuracy\")\n",
        "plt.title(\"Lymphosercoma classifier accuracy\")\n",
        "plt.show()"
      ]
    },
    {
      "cell_type": "code",
      "execution_count": null,
      "metadata": {
        "colab": {
          "base_uri": "https://localhost:8080/"
        },
        "id": "Oq_-o3cqxUlx",
        "outputId": "17bcfbbd-c1e2-4281-8e79-968bcd15925e"
      },
      "outputs": [
        {
          "output_type": "stream",
          "name": "stdout",
          "text": [
            "Accuracy: 89.23%\n",
            "\n",
            "Classification Report:\n",
            "              precision    recall  f1-score   support\n",
            "\n",
            "           1       1.00      0.88      0.94        17\n",
            "           2       0.87      0.87      0.87        15\n",
            "           3       0.79      0.79      0.79        14\n",
            "           4       0.90      1.00      0.95        19\n",
            "\n",
            "    accuracy                           0.89        65\n",
            "   macro avg       0.89      0.88      0.88        65\n",
            "weighted avg       0.90      0.89      0.89        65\n",
            "\n",
            "Cross_validation best_accuracy:89.15\n",
            "Cross_validation avarage_accuracy:84.63\n",
            "Cross _validation standard_deviation:0.26\n"
          ]
        }
      ],
      "source": [
        "####model prediction.###\n",
        "test_pred=clf.predict(X_test)\n",
        "##classification report.####\n",
        "accuracy=accuracy_score(Y_test,test_pred)\n",
        "print(f\"Accuracy: {accuracy * 100:.2f}%\")\n",
        "print(\"\\nClassification Report:\")\n",
        "print(classification_report(Y_test,test_pred))\n",
        "mean= np.mean(results)\n",
        "Cross_best=max(results)\n",
        "print(f\"Cross_validation best_accuracy:{Cross_best*100:.2f}\")\n",
        "print(f\"Cross_validation avarage_accuracy:{mean*100:.2f}\")\n",
        "st_dv=np.std(results)\n",
        "print(f\"Cross _validation standard_deviation:{st_dv*10:.2f}\")"
      ]
    },
    {
      "cell_type": "code",
      "execution_count": null,
      "metadata": {
        "colab": {
          "base_uri": "https://localhost:8080/",
          "height": 1000,
          "referenced_widgets": [
            "bc0e88afc1a84136af36d405bb859ebf",
            "1e0c7f968c854c029887009eada4cb53",
            "1e2bc8cac3034603bfae218efe71dc02",
            "72f258b6680747e19cae4ee898b8c571",
            "dbe107b74c834438ad78275cf70b477c",
            "12c98cb154184c92aa3e64526bc3d3a9",
            "42173f17457c405586ff331005b60d91",
            "db0935d0c0784ba8aee826df2a812bef",
            "a6924e4a5fcf4a249e2f45552f9f54ea",
            "9aeca0fca853410c95482852541b0c0a",
            "4227e2964a854576b52e0ce293dd6641"
          ]
        },
        "id": "xHevpK9mxUlx",
        "outputId": "e6c4eac5-eb73-4699-c5fd-1ff52097dc20"
      },
      "outputs": [
        {
          "output_type": "display_data",
          "data": {
            "text/plain": [
              "  0%|          | 0/9 [00:00<?, ?it/s]"
            ],
            "application/vnd.jupyter.widget-view+json": {
              "version_major": 2,
              "version_minor": 0,
              "model_id": "bc0e88afc1a84136af36d405bb859ebf"
            }
          },
          "metadata": {}
        },
        {
          "output_type": "display_data",
          "data": {
            "text/plain": [
              "<Figure size 800x500 with 1 Axes>"
            ],
            "image/png": "[encoded data removed]"
          },
          "metadata": {}
        },
        {
          "output_type": "display_data",
          "data": {
            "text/plain": [
              "<Figure size 800x500 with 1 Axes>"
            ],
            "image/png": "[encoded data removed]"
          },
          "metadata": {}
        },
        {
          "output_type": "display_data",
          "data": {
            "text/plain": [
              "<Figure size 800x500 with 1 Axes>"
            ],
            "image/png": "[encoded data removed]"
          },
          "metadata": {}
        },
        {
          "output_type": "display_data",
          "data": {
            "text/plain": [
              "<Figure size 800x500 with 1 Axes>"
            ],
            "image/png": "[encoded data removed]"
          },
          "metadata": {}
        }
      ],
      "source": [
        "import shap\n",
        "import pandas as pd\n",
        "import numpy as np\n",
        "import matplotlib.pyplot as plt\n",
        "\n",
        "# Step 0 — Convert X_test to DataFrame (same as your LIME code)\n",
        "df_X = pd.DataFrame(X_test)\n",
        "\n",
        "# Step 1 — Create SHAP KernelExplainer for KNN model\n",
        "explainer = shap.KernelExplainer(clf.predict_proba, shap.sample(df_X, 100))\n",
        "# Sample 100 rows as background (adjust if needed)\n",
        "\n",
        "# Step 2 — Choose an instance to explain (same as LIME)\n",
        "instance = df_X.iloc[7:16]  # Keep it as DataFrame slice\n",
        "\n",
        "# Step 3 — Compute SHAP values for the instance (all classes)\n",
        "shap_values = explainer.shap_values(instance)\n",
        "\n",
        "# Step 4 — Your class names (same as LIME)\n",
        "class_names = ['normal find', 'fibrosis', 'metastesis', 'malignant']\n",
        "\n",
        "# Step 5 — Display explanations (one bar plot per class)\n",
        "# The shap_values array seems to have an unexpected shape.\n",
        "# Assuming it's (1, num_features, num_classes), we need to adjust the indexing:\n",
        "for class_idx, class_label in enumerate(class_names):\n",
        "    # Accessing SHAP values for the instance, all features, and the current class\n",
        "    shap_vals_for_class = shap_values[0][:, class_idx]\n",
        "\n",
        "    feature_names = df_X.columns\n",
        "    weights = shap_vals_for_class\n",
        "\n",
        "    # Sort features by absolute SHAP value (optional for clearer plot)\n",
        "    sorted_idx = np.argsort(np.abs(weights))[::-1]\n",
        "    feature_names_sorted = feature_names[sorted_idx]\n",
        "    weights_sorted = weights[sorted_idx]\n",
        "\n",
        "    # Plot\n",
        "    plt.figure(figsize=(8, 5))\n",
        "    plt.bar(feature_names_sorted, weights_sorted, color='red')\n",
        "    plt.xlabel('Feature')\n",
        "    plt.ylabel('SHAP Value (Impact)')\n",
        "    plt.title(f'SHAP Explanation for Class: {class_label}')\n",
        "    plt.xticks(rotation=90)\n",
        "    plt.axhline(0, color='black', linewidth=0.7)\n",
        "    plt.tight_layout()\n",
        "    plt.show()"
      ]
    },
    {
      "cell_type": "code",
      "execution_count": null,
      "metadata": {
        "id": "uCDOCqCHxUlx"
      },
      "outputs": [],
      "source": []
    }
  ],
  "metadata": {
    "kernelspec": {
      "display_name": "Python 3",
      "language": "python",
      "name": "python3"
    },
    "language_info": {
      "codemirror_mode": {
        "name": "ipython",
        "version": 3
      },
      "file_extension": ".py",
      "mimetype": "text/x-python",
      "name": "python",
      "nbconvert_exporter": "python",
      "pygments_lexer": "ipython3",
      "version": "3.11.4"
    },
    "colab": {
      "provenance": []
    },
    "widgets": {
      "application/vnd.jupyter.widget-state+json": {
        "bc0e88afc1a84136af36d405bb859ebf": {
          "model_module": "@jupyter-widgets/controls",
          "model_name": "HBoxModel",
          "model_module_version": "1.5.0",
          "state": {
            "_dom_classes": [],
            "_model_module": "@jupyter-widgets/controls",
            "_model_module_version": "1.5.0",
            "_model_name": "HBoxModel",
            "_view_count": null,
            "_view_module": "@jupyter-widgets/controls",
            "_view_module_version": "1.5.0",
            "_view_name": "HBoxView",
            "box_style": "",
            "children": [
              "IPY_MODEL_1e0c7f968c854c029887009eada4cb53",
              "IPY_MODEL_1e2bc8cac3034603bfae218efe71dc02",
              "IPY_MODEL_72f258b6680747e19cae4ee898b8c571"
            ],
            "layout": "IPY_MODEL_dbe107b74c834438ad78275cf70b477c"
          }
        },
        "1e0c7f968c854c029887009eada4cb53": {
          "model_module": "@jupyter-widgets/controls",
          "model_name": "HTMLModel",
          "model_module_version": "1.5.0",
          "state": {
            "_dom_classes": [],
            "_model_module": "@jupyter-widgets/controls",
            "_model_module_version": "1.5.0",
            "_model_name": "HTMLModel",
            "_view_count": null,
            "_view_module": "@jupyter-widgets/controls",
            "_view_module_version": "1.5.0",
            "_view_name": "HTMLView",
            "description": "",
            "description_tooltip": null,
            "layout": "IPY_MODEL_12c98cb154184c92aa3e64526bc3d3a9",
            "placeholder": "​",
            "style": "IPY_MODEL_42173f17457c405586ff331005b60d91",
            "value": "100%"
          }
        },
        "1e2bc8cac3034603bfae218efe71dc02": {
          "model_module": "@jupyter-widgets/controls",
          "model_name": "FloatProgressModel",
          "model_module_version": "1.5.0",
          "state": {
            "_dom_classes": [],
            "_model_module": "@jupyter-widgets/controls",
            "_model_module_version": "1.5.0",
            "_model_name": "FloatProgressModel",
            "_view_count": null,
            "_view_module": "@jupyter-widgets/controls",
            "_view_module_version": "1.5.0",
            "_view_name": "ProgressView",
            "bar_style": "success",
            "description": "",
            "description_tooltip": null,
            "layout": "IPY_MODEL_db0935d0c0784ba8aee826df2a812bef",
            "max": 9,
            "min": 0,
            "orientation": "horizontal",
            "style": "IPY_MODEL_a6924e4a5fcf4a249e2f45552f9f54ea",
            "value": 9
          }
        },
        "72f258b6680747e19cae4ee898b8c571": {
          "model_module": "@jupyter-widgets/controls",
          "model_name": "HTMLModel",
          "model_module_version": "1.5.0",
          "state": {
            "_dom_classes": [],
            "_model_module": "@jupyter-widgets/controls",
            "_model_module_version": "1.5.0",
            "_model_name": "HTMLModel",
            "_view_count": null,
            "_view_module": "@jupyter-widgets/controls",
            "_view_module_version": "1.5.0",
            "_view_name": "HTMLView",
            "description": "",
            "description_tooltip": null,
            "layout": "IPY_MODEL_9aeca0fca853410c95482852541b0c0a",
            "placeholder": "​",
            "style": "IPY_MODEL_4227e2964a854576b52e0ce293dd6641",
            "value": " 9/9 [00:03&lt;00:00,  2.27it/s]"
          }
        },
        "dbe107b74c834438ad78275cf70b477c": {
          "model_module": "@jupyter-widgets/base",
          "model_name": "LayoutModel",
          "model_module_version": "1.2.0",
          "state": {
            "_model_module": "@jupyter-widgets/base",
            "_model_module_version": "1.2.0",
            "_model_name": "LayoutModel",
            "_view_count": null,
            "_view_module": "@jupyter-widgets/base",
            "_view_module_version": "1.2.0",
            "_view_name": "LayoutView",
            "align_content": null,
            "align_items": null,
            "align_self": null,
            "border": null,
            "bottom": null,
            "display": null,
            "flex": null,
            "flex_flow": null,
            "grid_area": null,
            "grid_auto_columns": null,
            "grid_auto_flow": null,
            "grid_auto_rows": null,
            "grid_column": null,
            "grid_gap": null,
            "grid_row": null,
            "grid_template_areas": null,
            "grid_template_columns": null,
            "grid_template_rows": null,
            "height": null,
            "justify_content": null,
            "justify_items": null,
            "left": null,
            "margin": null,
            "max_height": null,
            "max_width": null,
            "min_height": null,
            "min_width": null,
            "object_fit": null,
            "object_position": null,
            "order": null,
            "overflow": null,
            "overflow_x": null,
            "overflow_y": null,
            "padding": null,
            "right": null,
            "top": null,
            "visibility": null,
            "width": null
          }
        },
        "12c98cb154184c92aa3e64526bc3d3a9": {
          "model_module": "@jupyter-widgets/base",
          "model_name": "LayoutModel",
          "model_module_version": "1.2.0",
          "state": {
            "_model_module": "@jupyter-widgets/base",
            "_model_module_version": "1.2.0",
            "_model_name": "LayoutModel",
            "_view_count": null,
            "_view_module": "@jupyter-widgets/base",
            "_view_module_version": "1.2.0",
            "_view_name": "LayoutView",
            "align_content": null,
            "align_items": null,
            "align_self": null,
            "border": null,
            "bottom": null,
            "display": null,
            "flex": null,
            "flex_flow": null,
            "grid_area": null,
            "grid_auto_columns": null,
            "grid_auto_flow": null,
            "grid_auto_rows": null,
            "grid_column": null,
            "grid_gap": null,
            "grid_row": null,
            "grid_template_areas": null,
            "grid_template_columns": null,
            "grid_template_rows": null,
            "height": null,
            "justify_content": null,
            "justify_items": null,
            "left": null,
            "margin": null,
            "max_height": null,
            "max_width": null,
            "min_height": null,
            "min_width": null,
            "object_fit": null,
            "object_position": null,
            "order": null,
            "overflow": null,
            "overflow_x": null,
            "overflow_y": null,
            "padding": null,
            "right": null,
            "top": null,
            "visibility": null,
            "width": null
          }
        },
        "42173f17457c405586ff331005b60d91": {
          "model_module": "@jupyter-widgets/controls",
          "model_name": "DescriptionStyleModel",
          "model_module_version": "1.5.0",
          "state": {
            "_model_module": "@jupyter-widgets/controls",
            "_model_module_version": "1.5.0",
            "_model_name": "DescriptionStyleModel",
            "_view_count": null,
            "_view_module": "@jupyter-widgets/base",
            "_view_module_version": "1.2.0",
            "_view_name": "StyleView",
            "description_width": ""
          }
        },
        "db0935d0c0784ba8aee826df2a812bef": {
          "model_module": "@jupyter-widgets/base",
          "model_name": "LayoutModel",
          "model_module_version": "1.2.0",
          "state": {
            "_model_module": "@jupyter-widgets/base",
            "_model_module_version": "1.2.0",
            "_model_name": "LayoutModel",
            "_view_count": null,
            "_view_module": "@jupyter-widgets/base",
            "_view_module_version": "1.2.0",
            "_view_name": "LayoutView",
            "align_content": null,
            "align_items": null,
            "align_self": null,
            "border": null,
            "bottom": null,
            "display": null,
            "flex": null,
            "flex_flow": null,
            "grid_area": null,
            "grid_auto_columns": null,
            "grid_auto_flow": null,
            "grid_auto_rows": null,
            "grid_column": null,
            "grid_gap": null,
            "grid_row": null,
            "grid_template_areas": null,
            "grid_template_columns": null,
            "grid_template_rows": null,
            "height": null,
            "justify_content": null,
            "justify_items": null,
            "left": null,
            "margin": null,
            "max_height": null,
            "max_width": null,
            "min_height": null,
            "min_width": null,
            "object_fit": null,
            "object_position": null,
            "order": null,
            "overflow": null,
            "overflow_x": null,
            "overflow_y": null,
            "padding": null,
            "right": null,
            "top": null,
            "visibility": null,
            "width": null
          }
        },
        "a6924e4a5fcf4a249e2f45552f9f54ea": {
          "model_module": "@jupyter-widgets/controls",
          "model_name": "ProgressStyleModel",
          "model_module_version": "1.5.0",
          "state": {
            "_model_module": "@jupyter-widgets/controls",
            "_model_module_version": "1.5.0",
            "_model_name": "ProgressStyleModel",
            "_view_count": null,
            "_view_module": "@jupyter-widgets/base",
            "_view_module_version": "1.2.0",
            "_view_name": "StyleView",
            "bar_color": null,
            "description_width": ""
          }
        },
        "9aeca0fca853410c95482852541b0c0a": {
          "model_module": "@jupyter-widgets/base",
          "model_name": "LayoutModel",
          "model_module_version": "1.2.0",
          "state": {
            "_model_module": "@jupyter-widgets/base",
            "_model_module_version": "1.2.0",
            "_model_name": "LayoutModel",
            "_view_count": null,
            "_view_module": "@jupyter-widgets/base",
            "_view_module_version": "1.2.0",
            "_view_name": "LayoutView",
            "align_content": null,
            "align_items": null,
            "align_self": null,
            "border": null,
            "bottom": null,
            "display": null,
            "flex": null,
            "flex_flow": null,
            "grid_area": null,
            "grid_auto_columns": null,
            "grid_auto_flow": null,
            "grid_auto_rows": null,
            "grid_column": null,
            "grid_gap": null,
            "grid_row": null,
            "grid_template_areas": null,
            "grid_template_columns": null,
            "grid_template_rows": null,
            "height": null,
            "justify_content": null,
            "justify_items": null,
            "left": null,
            "margin": null,
            "max_height": null,
            "max_width": null,
            "min_height": null,
            "min_width": null,
            "object_fit": null,
            "object_position": null,
            "order": null,
            "overflow": null,
            "overflow_x": null,
            "overflow_y": null,
            "padding": null,
            "right": null,
            "top": null,
            "visibility": null,
            "width": null
          }
        },
        "4227e2964a854576b52e0ce293dd6641": {
          "model_module": "@jupyter-widgets/controls",
          "model_name": "DescriptionStyleModel",
          "model_module_version": "1.5.0",
          "state": {
            "_model_module": "@jupyter-widgets/controls",
            "_model_module_version": "1.5.0",
            "_model_name": "DescriptionStyleModel",
            "_view_count": null,
            "_view_module": "@jupyter-widgets/base",
            "_view_module_version": "1.2.0",
            "_view_name": "StyleView",
            "description_width": ""
          }
        }
      }
    }
  },
  "nbformat": 4,
  "nbformat_minor": 0
}