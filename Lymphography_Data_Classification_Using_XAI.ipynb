{
  "nbformat": 4,
  "nbformat_minor": 0,
  "metadata": {
    "colab": {
      "provenance": [],
      "include_colab_link": true
    },
    "kernelspec": {
      "name": "python3",
      "display_name": "Python 3"
    },
    "language_info": {
      "name": "python"
    },
    "widgets": {
      "application/vnd.jupyter.widget-state+json": {
        "abc1abe7c68b419b9efb78e800d13c3c": {
          "model_module": "@jupyter-widgets/controls",
          "model_name": "HBoxModel",
          "model_module_version": "1.5.0",
          "state": {
            "_dom_classes": [],
            "_model_module": "@jupyter-widgets/controls",
            "_model_module_version": "1.5.0",
            "_model_name": "HBoxModel",
            "_view_count": null,
            "_view_module": "@jupyter-widgets/controls",
            "_view_module_version": "1.5.0",
            "_view_name": "HBoxView",
            "box_style": "",
            "children": [
              "IPY_MODEL_d5f052a4894f4d78a6da136de1092b39",
              "IPY_MODEL_043634f8d0fe44a3b91d4152202664e4",
              "IPY_MODEL_b58fca518c6b4539991b0853f27db7a4"
            ],
            "layout": "IPY_MODEL_2645b5bbe3594351a25f4246367eceaa"
          }
        },
        "d5f052a4894f4d78a6da136de1092b39": {
          "model_module": "@jupyter-widgets/controls",
          "model_name": "HTMLModel",
          "model_module_version": "1.5.0",
          "state": {
            "_dom_classes": [],
            "_model_module": "@jupyter-widgets/controls",
            "_model_module_version": "1.5.0",
            "_model_name": "HTMLModel",
            "_view_count": null,
            "_view_module": "@jupyter-widgets/controls",
            "_view_module_version": "1.5.0",
            "_view_name": "HTMLView",
            "description": "",
            "description_tooltip": null,
            "layout": "IPY_MODEL_13835ba0bc964efa9f43e8d136fbbcb3",
            "placeholder": "​",
            "style": "IPY_MODEL_0831072b4c80473ea9b5dbb7c9254fb7",
            "value": "100%"
          }
        },
        "043634f8d0fe44a3b91d4152202664e4": {
          "model_module": "@jupyter-widgets/controls",
          "model_name": "FloatProgressModel",
          "model_module_version": "1.5.0",
          "state": {
            "_dom_classes": [],
            "_model_module": "@jupyter-widgets/controls",
            "_model_module_version": "1.5.0",
            "_model_name": "FloatProgressModel",
            "_view_count": null,
            "_view_module": "@jupyter-widgets/controls",
            "_view_module_version": "1.5.0",
            "_view_name": "ProgressView",
            "bar_style": "success",
            "description": "",
            "description_tooltip": null,
            "layout": "IPY_MODEL_cc4c3a01b71440ad896a7dace284092c",
            "max": 9,
            "min": 0,
            "orientation": "horizontal",
            "style": "IPY_MODEL_fb38012b56a0498db30beacec64d8954",
            "value": 9
          }
        },
        "b58fca518c6b4539991b0853f27db7a4": {
          "model_module": "@jupyter-widgets/controls",
          "model_name": "HTMLModel",
          "model_module_version": "1.5.0",
          "state": {
            "_dom_classes": [],
            "_model_module": "@jupyter-widgets/controls",
            "_model_module_version": "1.5.0",
            "_model_name": "HTMLModel",
            "_view_count": null,
            "_view_module": "@jupyter-widgets/controls",
            "_view_module_version": "1.5.0",
            "_view_name": "HTMLView",
            "description": "",
            "description_tooltip": null,
            "layout": "IPY_MODEL_1520676573ca4392b98a2d832a98a670",
            "placeholder": "​",
            "style": "IPY_MODEL_fac56289bf674acbbe6010f22ccab55b",
            "value": " 9/9 [00:04&lt;00:00,  2.09it/s]"
          }
        },
        "2645b5bbe3594351a25f4246367eceaa": {
          "model_module": "@jupyter-widgets/base",
          "model_name": "LayoutModel",
          "model_module_version": "1.2.0",
          "state": {
            "_model_module": "@jupyter-widgets/base",
            "_model_module_version": "1.2.0",
            "_model_name": "LayoutModel",
            "_view_count": null,
            "_view_module": "@jupyter-widgets/base",
            "_view_module_version": "1.2.0",
            "_view_name": "LayoutView",
            "align_content": null,
            "align_items": null,
            "align_self": null,
            "border": null,
            "bottom": null,
            "display": null,
            "flex": null,
            "flex_flow": null,
            "grid_area": null,
            "grid_auto_columns": null,
            "grid_auto_flow": null,
            "grid_auto_rows": null,
            "grid_column": null,
            "grid_gap": null,
            "grid_row": null,
            "grid_template_areas": null,
            "grid_template_columns": null,
            "grid_template_rows": null,
            "height": null,
            "justify_content": null,
            "justify_items": null,
            "left": null,
            "margin": null,
            "max_height": null,
            "max_width": null,
            "min_height": null,
            "min_width": null,
            "object_fit": null,
            "object_position": null,
            "order": null,
            "overflow": null,
            "overflow_x": null,
            "overflow_y": null,
            "padding": null,
            "right": null,
            "top": null,
            "visibility": null,
            "width": null
          }
        },
        "13835ba0bc964efa9f43e8d136fbbcb3": {
          "model_module": "@jupyter-widgets/base",
          "model_name": "LayoutModel",
          "model_module_version": "1.2.0",
          "state": {
            "_model_module": "@jupyter-widgets/base",
            "_model_module_version": "1.2.0",
            "_model_name": "LayoutModel",
            "_view_count": null,
            "_view_module": "@jupyter-widgets/base",
            "_view_module_version": "1.2.0",
            "_view_name": "LayoutView",
            "align_content": null,
            "align_items": null,
            "align_self": null,
            "border": null,
            "bottom": null,
            "display": null,
            "flex": null,
            "flex_flow": null,
            "grid_area": null,
            "grid_auto_columns": null,
            "grid_auto_flow": null,
            "grid_auto_rows": null,
            "grid_column": null,
            "grid_gap": null,
            "grid_row": null,
            "grid_template_areas": null,
            "grid_template_columns": null,
            "grid_template_rows": null,
            "height": null,
            "justify_content": null,
            "justify_items": null,
            "left": null,
            "margin": null,
            "max_height": null,
            "max_width": null,
            "min_height": null,
            "min_width": null,
            "object_fit": null,
            "object_position": null,
            "order": null,
            "overflow": null,
            "overflow_x": null,
            "overflow_y": null,
            "padding": null,
            "right": null,
            "top": null,
            "visibility": null,
            "width": null
          }
        },
        "0831072b4c80473ea9b5dbb7c9254fb7": {
          "model_module": "@jupyter-widgets/controls",
          "model_name": "DescriptionStyleModel",
          "model_module_version": "1.5.0",
          "state": {
            "_model_module": "@jupyter-widgets/controls",
            "_model_module_version": "1.5.0",
            "_model_name": "DescriptionStyleModel",
            "_view_count": null,
            "_view_module": "@jupyter-widgets/base",
            "_view_module_version": "1.2.0",
            "_view_name": "StyleView",
            "description_width": ""
          }
        },
        "cc4c3a01b71440ad896a7dace284092c": {
          "model_module": "@jupyter-widgets/base",
          "model_name": "LayoutModel",
          "model_module_version": "1.2.0",
          "state": {
            "_model_module": "@jupyter-widgets/base",
            "_model_module_version": "1.2.0",
            "_model_name": "LayoutModel",
            "_view_count": null,
            "_view_module": "@jupyter-widgets/base",
            "_view_module_version": "1.2.0",
            "_view_name": "LayoutView",
            "align_content": null,
            "align_items": null,
            "align_self": null,
            "border": null,
            "bottom": null,
            "display": null,
            "flex": null,
            "flex_flow": null,
            "grid_area": null,
            "grid_auto_columns": null,
            "grid_auto_flow": null,
            "grid_auto_rows": null,
            "grid_column": null,
            "grid_gap": null,
            "grid_row": null,
            "grid_template_areas": null,
            "grid_template_columns": null,
            "grid_template_rows": null,
            "height": null,
            "justify_content": null,
            "justify_items": null,
            "left": null,
            "margin": null,
            "max_height": null,
            "max_width": null,
            "min_height": null,
            "min_width": null,
            "object_fit": null,
            "object_position": null,
            "order": null,
            "overflow": null,
            "overflow_x": null,
            "overflow_y": null,
            "padding": null,
            "right": null,
            "top": null,
            "visibility": null,
            "width": null
          }
        },
        "fb38012b56a0498db30beacec64d8954": {
          "model_module": "@jupyter-widgets/controls",
          "model_name": "ProgressStyleModel",
          "model_module_version": "1.5.0",
          "state": {
            "_model_module": "@jupyter-widgets/controls",
            "_model_module_version": "1.5.0",
            "_model_name": "ProgressStyleModel",
            "_view_count": null,
            "_view_module": "@jupyter-widgets/base",
            "_view_module_version": "1.2.0",
            "_view_name": "StyleView",
            "bar_color": null,
            "description_width": ""
          }
        },
        "1520676573ca4392b98a2d832a98a670": {
          "model_module": "@jupyter-widgets/base",
          "model_name": "LayoutModel",
          "model_module_version": "1.2.0",
          "state": {
            "_model_module": "@jupyter-widgets/base",
            "_model_module_version": "1.2.0",
            "_model_name": "LayoutModel",
            "_view_count": null,
            "_view_module": "@jupyter-widgets/base",
            "_view_module_version": "1.2.0",
            "_view_name": "LayoutView",
            "align_content": null,
            "align_items": null,
            "align_self": null,
            "border": null,
            "bottom": null,
            "display": null,
            "flex": null,
            "flex_flow": null,
            "grid_area": null,
            "grid_auto_columns": null,
            "grid_auto_flow": null,
            "grid_auto_rows": null,
            "grid_column": null,
            "grid_gap": null,
            "grid_row": null,
            "grid_template_areas": null,
            "grid_template_columns": null,
            "grid_template_rows": null,
            "height": null,
            "justify_content": null,
            "justify_items": null,
            "left": null,
            "margin": null,
            "max_height": null,
            "max_width": null,
            "min_height": null,
            "min_width": null,
            "object_fit": null,
            "object_position": null,
            "order": null,
            "overflow": null,
            "overflow_x": null,
            "overflow_y": null,
            "padding": null,
            "right": null,
            "top": null,
            "visibility": null,
            "width": null
          }
        },
        "fac56289bf674acbbe6010f22ccab55b": {
          "model_module": "@jupyter-widgets/controls",
          "model_name": "DescriptionStyleModel",
          "model_module_version": "1.5.0",
          "state": {
            "_model_module": "@jupyter-widgets/controls",
            "_model_module_version": "1.5.0",
            "_model_name": "DescriptionStyleModel",
            "_view_count": null,
            "_view_module": "@jupyter-widgets/base",
            "_view_module_version": "1.2.0",
            "_view_name": "StyleView",
            "description_width": ""
          }
        }
      }
    }
  },
  "cells": [
    {
      "cell_type": "markdown",
      "metadata": {
        "id": "view-in-github",
        "colab_type": "text"
      },
      "source": [
        "<a href=\"https://colab.research.google.com/github/rudradeb1947/Lymphography_Data_Classification_Using_XAI/blob/main/Lymphography_Data_Classification_Using_XAI.ipynb\" target=\"_parent\"><img src=\"https://colab.research.google.com/assets/colab-badge.svg\" alt=\"Open In Colab\"/></a>"
      ]
    },
    {
      "cell_type": "code",
      "execution_count": 1,
      "metadata": {
        "colab": {
          "base_uri": "https://localhost:8080/"
        },
        "id": "3fUdgnfwxUlu",
        "outputId": "7cb5c49c-ef5c-4c55-a608-a96d9f7acebc"
      },
      "outputs": [
        {
          "output_type": "stream",
          "name": "stdout",
          "text": [
            "Requirement already satisfied: shap in /usr/local/lib/python3.11/dist-packages (0.47.2)\n",
            "Requirement already satisfied: numpy in /usr/local/lib/python3.11/dist-packages (from shap) (2.0.2)\n",
            "Requirement already satisfied: scipy in /usr/local/lib/python3.11/dist-packages (from shap) (1.15.3)\n",
            "Requirement already satisfied: scikit-learn in /usr/local/lib/python3.11/dist-packages (from shap) (1.6.1)\n",
            "Requirement already satisfied: pandas in /usr/local/lib/python3.11/dist-packages (from shap) (2.2.2)\n",
            "Requirement already satisfied: tqdm>=4.27.0 in /usr/local/lib/python3.11/dist-packages (from shap) (4.67.1)\n",
            "Requirement already satisfied: packaging>20.9 in /usr/local/lib/python3.11/dist-packages (from shap) (24.2)\n",
            "Requirement already satisfied: slicer==0.0.8 in /usr/local/lib/python3.11/dist-packages (from shap) (0.0.8)\n",
            "Requirement already satisfied: numba>=0.54 in /usr/local/lib/python3.11/dist-packages (from shap) (0.60.0)\n",
            "Requirement already satisfied: cloudpickle in /usr/local/lib/python3.11/dist-packages (from shap) (3.1.1)\n",
            "Requirement already satisfied: typing-extensions in /usr/local/lib/python3.11/dist-packages (from shap) (4.13.2)\n",
            "Requirement already satisfied: llvmlite<0.44,>=0.43.0dev0 in /usr/local/lib/python3.11/dist-packages (from numba>=0.54->shap) (0.43.0)\n",
            "Requirement already satisfied: python-dateutil>=2.8.2 in /usr/local/lib/python3.11/dist-packages (from pandas->shap) (2.9.0.post0)\n",
            "Requirement already satisfied: pytz>=2020.1 in /usr/local/lib/python3.11/dist-packages (from pandas->shap) (2025.2)\n",
            "Requirement already satisfied: tzdata>=2022.7 in /usr/local/lib/python3.11/dist-packages (from pandas->shap) (2025.2)\n",
            "Requirement already satisfied: joblib>=1.2.0 in /usr/local/lib/python3.11/dist-packages (from scikit-learn->shap) (1.5.0)\n",
            "Requirement already satisfied: threadpoolctl>=3.1.0 in /usr/local/lib/python3.11/dist-packages (from scikit-learn->shap) (3.6.0)\n",
            "Requirement already satisfied: six>=1.5 in /usr/local/lib/python3.11/dist-packages (from python-dateutil>=2.8.2->pandas->shap) (1.17.0)\n"
          ]
        }
      ],
      "source": [
        "!pip install shap"
      ]
    },
    {
      "cell_type": "code",
      "execution_count": 2,
      "metadata": {
        "id": "qlj1eCR8xUlv"
      },
      "outputs": [],
      "source": [
        "##importing libraries##\n",
        "import numpy as np\n",
        "import pandas as pd\n",
        "import matplotlib.pyplot as plt\n",
        "import scipy.io as sio\n",
        "from sklearn.preprocessing import MinMaxScaler\n",
        "from sklearn.neighbors import KNeighborsClassifier\n",
        "from sklearn.neural_network import MLPClassifier\n",
        "from sklearn.model_selection import train_test_split,cross_val_score\n",
        "from sklearn.metrics import accuracy_score,classification_report\n",
        "from imblearn.over_sampling import ADASYN\n",
        "from collections import Counter\n",
        "import seaborn as sns\n",
        "import shap"
      ]
    },
    {
      "cell_type": "code",
      "execution_count": 3,
      "metadata": {
        "colab": {
          "base_uri": "https://localhost:8080/"
        },
        "id": "_e9Y1BOYxUlw",
        "outputId": "59f43a20-acfa-4996-f7fc-b2f4be6882a8"
      },
      "outputs": [
        {
          "output_type": "stream",
          "name": "stdout",
          "text": [
            "{'__header__': b'MATLAB 5.0 MAT-file, Platform: PCWIN64, Created on: Fri Dec 20 20:40:28 2024', '__version__': '1.0', '__globals__': [], 'inpdata': array([[3, 4, 2, ..., 1, 2, 2],\n",
            "       [2, 3, 2, ..., 2, 2, 2],\n",
            "       [3, 3, 2, ..., 2, 2, 7],\n",
            "       ...,\n",
            "       [3, 2, 2, ..., 2, 2, 4],\n",
            "       [2, 2, 1, ..., 2, 2, 1],\n",
            "       [2, 2, 2, ..., 2, 2, 6]], dtype=uint8), 'norm_data': array([[4, 2, 1, ..., 1, 2, 2],\n",
            "       [3, 2, 1, ..., 2, 2, 2],\n",
            "       [3, 2, 2, ..., 2, 2, 7],\n",
            "       ...,\n",
            "       [2, 2, 1, ..., 2, 2, 4],\n",
            "       [2, 1, 1, ..., 2, 2, 1],\n",
            "       [2, 2, 2, ..., 2, 2, 6]], dtype=uint8), 'target': array([[3],\n",
            "       [2],\n",
            "       [3],\n",
            "       [3],\n",
            "       [2],\n",
            "       [2],\n",
            "       [2],\n",
            "       [2],\n",
            "       [3],\n",
            "       [3],\n",
            "       [2],\n",
            "       [2],\n",
            "       [2],\n",
            "       [3],\n",
            "       [4],\n",
            "       [2],\n",
            "       [2],\n",
            "       [2],\n",
            "       [2],\n",
            "       [2],\n",
            "       [3],\n",
            "       [3],\n",
            "       [2],\n",
            "       [2],\n",
            "       [3],\n",
            "       [3],\n",
            "       [3],\n",
            "       [3],\n",
            "       [2],\n",
            "       [3],\n",
            "       [3],\n",
            "       [3],\n",
            "       [2],\n",
            "       [2],\n",
            "       [2],\n",
            "       [2],\n",
            "       [4],\n",
            "       [3],\n",
            "       [3],\n",
            "       [3],\n",
            "       [3],\n",
            "       [3],\n",
            "       [2],\n",
            "       [2],\n",
            "       [4],\n",
            "       [3],\n",
            "       [2],\n",
            "       [2],\n",
            "       [2],\n",
            "       [2],\n",
            "       [2],\n",
            "       [3],\n",
            "       [2],\n",
            "       [2],\n",
            "       [2],\n",
            "       [3],\n",
            "       [3],\n",
            "       [2],\n",
            "       [3],\n",
            "       [2],\n",
            "       [3],\n",
            "       [2],\n",
            "       [3],\n",
            "       [2],\n",
            "       [2],\n",
            "       [3],\n",
            "       [3],\n",
            "       [2],\n",
            "       [3],\n",
            "       [3],\n",
            "       [2],\n",
            "       [3],\n",
            "       [2],\n",
            "       [3],\n",
            "       [3],\n",
            "       [2],\n",
            "       [2],\n",
            "       [2],\n",
            "       [1],\n",
            "       [3],\n",
            "       [3],\n",
            "       [2],\n",
            "       [3],\n",
            "       [3],\n",
            "       [3],\n",
            "       [2],\n",
            "       [2],\n",
            "       [2],\n",
            "       [3],\n",
            "       [2],\n",
            "       [3],\n",
            "       [2],\n",
            "       [2],\n",
            "       [2],\n",
            "       [3],\n",
            "       [3],\n",
            "       [2],\n",
            "       [2],\n",
            "       [2],\n",
            "       [2],\n",
            "       [3],\n",
            "       [2],\n",
            "       [2],\n",
            "       [2],\n",
            "       [2],\n",
            "       [3],\n",
            "       [2],\n",
            "       [3],\n",
            "       [2],\n",
            "       [2],\n",
            "       [2],\n",
            "       [3],\n",
            "       [2],\n",
            "       [3],\n",
            "       [3],\n",
            "       [3],\n",
            "       [3],\n",
            "       [2],\n",
            "       [3],\n",
            "       [3],\n",
            "       [2],\n",
            "       [2],\n",
            "       [2],\n",
            "       [2],\n",
            "       [2],\n",
            "       [3],\n",
            "       [2],\n",
            "       [2],\n",
            "       [3],\n",
            "       [2],\n",
            "       [2],\n",
            "       [3],\n",
            "       [3],\n",
            "       [2],\n",
            "       [2],\n",
            "       [2],\n",
            "       [1],\n",
            "       [3],\n",
            "       [2],\n",
            "       [4],\n",
            "       [2],\n",
            "       [3],\n",
            "       [2],\n",
            "       [3],\n",
            "       [2],\n",
            "       [3],\n",
            "       [2],\n",
            "       [2]], dtype=uint8)}\n",
            "(148, 18)\n",
            "(148, 1)\n"
          ]
        }
      ],
      "source": [
        "###Data Fetching###\n",
        "lymph_file=\"/content/lymph_dataset.mat\"\n",
        "lymph_data=sio.loadmat(lymph_file)\n",
        "print(lymph_data)\n",
        "X_raw=lymph_data['norm_data']\n",
        "y_raw=lymph_data['target']\n",
        "print(X_raw.shape)\n",
        "print(y_raw.shape)\n",
        "Y=np.ravel(y_raw)\n",
        "\n"
      ]
    },
    {
      "cell_type": "code",
      "execution_count": 4,
      "metadata": {
        "colab": {
          "base_uri": "https://localhost:8080/"
        },
        "id": "Foke4i1qxUlw",
        "outputId": "c5cd881c-aed4-49a8-8eff-8e1b134d1115"
      },
      "outputs": [
        {
          "output_type": "stream",
          "name": "stdout",
          "text": [
            "before Counter({np.uint8(2): 81, np.uint8(3): 61, np.uint8(4): 4, np.uint8(1): 2})\n",
            "after Counter({np.uint8(4): 82, np.uint8(2): 81, np.uint8(1): 81, np.uint8(3): 78})\n"
          ]
        }
      ],
      "source": [
        "###balancing the dataset###\n",
        "counter=Counter(Y)\n",
        "print(\"before\",counter)\n",
        "\n",
        "ada=ADASYN(n_neighbors=1)\n",
        "X_resamp,Y_resamp=ada.fit_resample(X_raw,Y)\n",
        "\n",
        "new_counter=Counter(Y_resamp)\n",
        "print(\"after\",new_counter)\n"
      ]
    },
    {
      "cell_type": "code",
      "execution_count": 5,
      "metadata": {
        "colab": {
          "base_uri": "https://localhost:8080/"
        },
        "id": "b4tnyV80xUlw",
        "outputId": "32b40f76-27fe-4707-d232-d95aaa9140cd"
      },
      "outputs": [
        {
          "output_type": "stream",
          "name": "stdout",
          "text": [
            "[[0.02272727 0.00416667 0.         ... 0.         0.004      0.004     ]\n",
            " [0.01515152 0.00416667 0.         ... 0.00416667 0.004      0.004     ]\n",
            " [0.01515152 0.00416667 0.00416667 ... 0.00416667 0.004      0.024     ]\n",
            " ...\n",
            " [0.01515152 0.94166667 0.94166667 ... 0.94166667 0.904      0.024     ]\n",
            " [0.01515152 0.09166667 0.09166667 ... 0.09166667 0.088      0.024     ]\n",
            " [0.01515152 1.         1.         ... 1.         0.96       0.024     ]]\n"
          ]
        }
      ],
      "source": [
        "##data normalizing##\n",
        "scaler=MinMaxScaler()\n",
        "X=scaler.fit_transform(X_resamp)\n",
        "print(X)\n"
      ]
    },
    {
      "cell_type": "code",
      "execution_count": 6,
      "metadata": {
        "id": "52KvcXj9xUlw"
      },
      "outputs": [],
      "source": [
        "###Test_Train_Split###\n",
        "X_train,X_test,Y_train,Y_test=train_test_split(X,Y_resamp,test_size=0.2,random_state=10)\n",
        "results=[]\n",
        "train_arr=[]"
      ]
    },
    {
      "cell_type": "code",
      "execution_count": 7,
      "metadata": {
        "colab": {
          "base_uri": "https://localhost:8080/"
        },
        "id": "6PXWBIHTxUlx",
        "outputId": "1d3d68f3-50a5-44ba-d1a3-e16cf4fdb0d6"
      },
      "outputs": [
        {
          "output_type": "stream",
          "name": "stdout",
          "text": [
            "[np.float64(0.8455882352941176), np.float64(0.7987132352941176), np.float64(0.9227941176470589), np.float64(0.8465073529411764), np.float64(0.8915441176470589), np.float64(0.8768382352941176), np.float64(0.8143382352941176), np.float64(0.8299632352941176), np.float64(0.8455882352941176)]\n",
            "best training accuracy:100.00%\n",
            "worst training accuracy:84.44%\n",
            "mean_traing accuracy:89.93\n"
          ]
        }
      ],
      "source": [
        "###Model Calling###\n",
        "for k in range(1,10):\n",
        "    clf=KNeighborsClassifier(n_neighbors=k)\n",
        "    ##training the model.####\n",
        "    clf.fit(X_train,Y_train)\n",
        "    train_accuracy=clf.score(X_train,Y_train)\n",
        "    train_arr.append(train_accuracy)\n",
        "###Cross_validation accuracy over k neighbours.###\n",
        "    score=cross_val_score(clf,X_test,Y_test,cv=4)\n",
        "    results.append(np.mean(score))\n",
        "print(results)\n",
        "###training accuracy####\n",
        "train_accuracy_best=max(train_arr)\n",
        "train_accuracy_worst=min(train_arr)\n",
        "print(f\"best training accuracy:{train_accuracy_best*100:.2f}%\")\n",
        "print(f\"worst training accuracy:{train_accuracy_worst*100:.2f}%\")\n",
        "print(f\"mean_traing accuracy:{np.mean(train_arr)*100:.2f}\")\n",
        "\n"
      ]
    },
    {
      "cell_type": "code",
      "execution_count": 8,
      "metadata": {
        "colab": {
          "base_uri": "https://localhost:8080/",
          "height": 472
        },
        "id": "aV8oFzrVxUlx",
        "outputId": "a5aee076-b5b0-4693-9969-cbc8fe383f7a"
      },
      "outputs": [
        {
          "output_type": "display_data",
          "data": {
            "text/plain": [
              "<Figure size 640x480 with 1 Axes>"
            ],
            "image/png": "[encoded data removed]"
          },
          "metadata": {}
        }
      ],
      "source": [
        "###model Graph##\n",
        "k_list=range(1,10)\n",
        "sns.lineplot(x=k_list,y=results,marker='o')\n",
        "plt.ylim(0.4,1.0)\n",
        "plt.xlabel(\"k_values\")\n",
        "plt.ylabel(\"accuracy\")\n",
        "plt.title(\"Lymphosercoma classifier accuracy\")\n",
        "plt.show()"
      ]
    },
    {
      "cell_type": "code",
      "execution_count": 9,
      "metadata": {
        "colab": {
          "base_uri": "https://localhost:8080/"
        },
        "id": "Oq_-o3cqxUlx",
        "outputId": "1e964eaf-77df-4a69-8835-c6e17cb590e7"
      },
      "outputs": [
        {
          "output_type": "stream",
          "name": "stdout",
          "text": [
            "Accuracy: 92.31%\n",
            "\n",
            "Classification Report:\n",
            "              precision    recall  f1-score   support\n",
            "\n",
            "           1       1.00      1.00      1.00        17\n",
            "           2       0.82      0.93      0.88        15\n",
            "           3       0.85      0.79      0.81        14\n",
            "           4       1.00      0.95      0.97        19\n",
            "\n",
            "    accuracy                           0.92        65\n",
            "   macro avg       0.92      0.92      0.92        65\n",
            "weighted avg       0.93      0.92      0.92        65\n",
            "\n",
            "Cross_validation best_accuracy:92.28\n",
            "Cross_validation avarage_accuracy:85.24\n",
            "Cross _validation standard_deviation:0.37\n"
          ]
        }
      ],
      "source": [
        "####model prediction.###\n",
        "test_pred=clf.predict(X_test)\n",
        "##classification report.####\n",
        "accuracy=accuracy_score(Y_test,test_pred)\n",
        "print(f\"Accuracy: {accuracy * 100:.2f}%\")\n",
        "print(\"\\nClassification Report:\")\n",
        "print(classification_report(Y_test,test_pred))\n",
        "mean= np.mean(results)\n",
        "Cross_best=max(results)\n",
        "print(f\"Cross_validation best_accuracy:{Cross_best*100:.2f}\")\n",
        "print(f\"Cross_validation avarage_accuracy:{mean*100:.2f}\")\n",
        "st_dv=np.std(results)\n",
        "print(f\"Cross _validation standard_deviation:{st_dv*10:.2f}\")"
      ]
    },
    {
      "cell_type": "code",
      "execution_count": 10,
      "metadata": {
        "colab": {
          "base_uri": "https://localhost:8080/",
          "height": 1000,
          "referenced_widgets": [
            "abc1abe7c68b419b9efb78e800d13c3c",
            "d5f052a4894f4d78a6da136de1092b39",
            "043634f8d0fe44a3b91d4152202664e4",
            "b58fca518c6b4539991b0853f27db7a4",
            "2645b5bbe3594351a25f4246367eceaa",
            "13835ba0bc964efa9f43e8d136fbbcb3",
            "0831072b4c80473ea9b5dbb7c9254fb7",
            "cc4c3a01b71440ad896a7dace284092c",
            "fb38012b56a0498db30beacec64d8954",
            "1520676573ca4392b98a2d832a98a670",
            "fac56289bf674acbbe6010f22ccab55b"
          ]
        },
        "id": "xHevpK9mxUlx",
        "outputId": "1170b5c4-58c1-4552-94fc-24511949b53a"
      },
      "outputs": [
        {
          "output_type": "display_data",
          "data": {
            "text/plain": [
              "  0%|          | 0/9 [00:00<?, ?it/s]"
            ],
            "application/vnd.jupyter.widget-view+json": {
              "version_major": 2,
              "version_minor": 0,
              "model_id": "abc1abe7c68b419b9efb78e800d13c3c"
            }
          },
          "metadata": {}
        },
        {
          "output_type": "display_data",
          "data": {
            "text/plain": [
              "<Figure size 800x500 with 1 Axes>"
            ],
            "image/png": "[encoded data removed]"
          },
          "metadata": {}
        },
        {
          "output_type": "display_data",
          "data": {
            "text/plain": [
              "<Figure size 800x500 with 1 Axes>"
            ],
            "image/png": "[encoded data removed]"
          },
          "metadata": {}
        },
        {
          "output_type": "display_data",
          "data": {
            "text/plain": [
              "<Figure size 800x500 with 1 Axes>"
            ],
            "image/png": "[encoded data removed]"
          },
          "metadata": {}
        },
        {
          "output_type": "display_data",
          "data": {
            "text/plain": [
              "<Figure size 800x500 with 1 Axes>"
            ],
            "image/png": "[encoded data removed]"
          },
          "metadata": {}
        }
      ],
      "source": [
        "import shap\n",
        "import pandas as pd\n",
        "import numpy as np\n",
        "import matplotlib.pyplot as plt\n",
        "\n",
        "# Step 0 — Convert X_test to DataFrame (same as your LIME code)\n",
        "df_X = pd.DataFrame(X_test)\n",
        "\n",
        "# Step 1 — Create SHAP KernelExplainer for KNN model\n",
        "explainer = shap.KernelExplainer(clf.predict_proba, shap.sample(df_X, 100))\n",
        "# Sample 100 rows as background (adjust if needed)\n",
        "\n",
        "# Step 2 — Choose an instance to explain (same as LIME)\n",
        "instance = df_X.iloc[7:16]  # Keep it as DataFrame slice\n",
        "\n",
        "# Step 3 — Compute SHAP values for the instance (all classes)\n",
        "shap_values = explainer.shap_values(instance)\n",
        "\n",
        "# Step 4 — Your class names (same as LIME)\n",
        "class_names = ['normal find', 'fibrosis', 'metastesis', 'malignant']\n",
        "\n",
        "# Step 5 — Display explanations (one bar plot per class)\n",
        "# The shap_values array seems to have an unexpected shape.\n",
        "# Assuming it's (1, num_features, num_classes), we need to adjust the indexing:\n",
        "for class_idx, class_label in enumerate(class_names):\n",
        "    # Accessing SHAP values for the instance, all features, and the current class\n",
        "    shap_vals_for_class = shap_values[0][:, class_idx]\n",
        "\n",
        "    feature_names = df_X.columns\n",
        "    weights = shap_vals_for_class\n",
        "\n",
        "    # Sort features by absolute SHAP value (optional for clearer plot)\n",
        "    sorted_idx = np.argsort(np.abs(weights))[::-1]\n",
        "    feature_names_sorted = feature_names[sorted_idx]\n",
        "    weights_sorted = weights[sorted_idx]\n",
        "\n",
        "    # Plot\n",
        "    plt.figure(figsize=(8, 5))\n",
        "    plt.bar(feature_names_sorted, weights_sorted, color='red')\n",
        "    plt.xlabel('Feature')\n",
        "    plt.ylabel('SHAP Value (Impact)')\n",
        "    plt.title(f'SHAP Explanation for Class: {class_label}')\n",
        "    plt.xticks(rotation=90)\n",
        "    plt.axhline(0, color='black', linewidth=0.7)\n",
        "    plt.tight_layout()\n",
        "    plt.show()"
      ]
    }
  ]
}